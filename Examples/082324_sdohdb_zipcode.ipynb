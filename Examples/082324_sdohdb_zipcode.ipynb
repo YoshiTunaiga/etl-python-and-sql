{
 "cells": [
  {
   "cell_type": "code",
   "execution_count": 610,
   "metadata": {},
   "outputs": [],
   "source": [
    "import pandas as pd"
   ]
  },
  {
   "cell_type": "code",
   "execution_count": 611,
   "metadata": {},
   "outputs": [],
   "source": [
    "sdohdata = pd.read_csv('./New_query_2024_08_23.csv')"
   ]
  },
  {
   "cell_type": "code",
   "execution_count": 612,
   "metadata": {},
   "outputs": [
    {
     "data": {
      "text/html": [
       "<div>\n",
       "<style scoped>\n",
       "    .dataframe tbody tr th:only-of-type {\n",
       "        vertical-align: middle;\n",
       "    }\n",
       "\n",
       "    .dataframe tbody tr th {\n",
       "        vertical-align: top;\n",
       "    }\n",
       "\n",
       "    .dataframe thead th {\n",
       "        text-align: right;\n",
       "    }\n",
       "</style>\n",
       "<table border=\"1\" class=\"dataframe\">\n",
       "  <thead>\n",
       "    <tr style=\"text-align: right;\">\n",
       "      <th></th>\n",
       "      <th>year</th>\n",
       "      <th>statefips</th>\n",
       "      <th>zipcode</th>\n",
       "      <th>zcta</th>\n",
       "      <th>state</th>\n",
       "      <th>region</th>\n",
       "      <th>territory</th>\n",
       "      <th>point_zip</th>\n",
       "      <th>acs_tot_pop_wt_zc</th>\n",
       "      <th>acs_tot_pop_us_above1_zc</th>\n",
       "      <th>...</th>\n",
       "      <th>cdcp_prev_serv_m65_above_c_zc</th>\n",
       "      <th>cdcp_pulmonary_adult_c_zc</th>\n",
       "      <th>cdcp_sleep_less7hr_adult_c_zc</th>\n",
       "      <th>acs_pct_pop_same_sex_unmrd_p_zc</th>\n",
       "      <th>acs_pct_pop_same_sex_spouse_zc</th>\n",
       "      <th>hifld_dist_uc_zp</th>\n",
       "      <th>mimi_src_file_date</th>\n",
       "      <th>mimi_src_file_name</th>\n",
       "      <th>mimi_dlt_load_date</th>\n",
       "      <th>substring(year, 1, 4)</th>\n",
       "    </tr>\n",
       "  </thead>\n",
       "  <tbody>\n",
       "    <tr>\n",
       "      <th>0</th>\n",
       "      <td>2016.0</td>\n",
       "      <td>12</td>\n",
       "      <td>33159</td>\n",
       "      <td>NaN</td>\n",
       "      <td>Florida</td>\n",
       "      <td>South</td>\n",
       "      <td>0.0</td>\n",
       "      <td>1.0</td>\n",
       "      <td>NaN</td>\n",
       "      <td>NaN</td>\n",
       "      <td>...</td>\n",
       "      <td>NaN</td>\n",
       "      <td>NaN</td>\n",
       "      <td>NaN</td>\n",
       "      <td>NaN</td>\n",
       "      <td>NaN</td>\n",
       "      <td>NaN</td>\n",
       "      <td>2016-12-31</td>\n",
       "      <td>SDOH_2016_ZIPCODE_1_0.xlsx</td>\n",
       "      <td>2024-08-17</td>\n",
       "      <td>2016</td>\n",
       "    </tr>\n",
       "    <tr>\n",
       "      <th>1</th>\n",
       "      <td>2016.0</td>\n",
       "      <td>12</td>\n",
       "      <td>34278</td>\n",
       "      <td>NaN</td>\n",
       "      <td>Florida</td>\n",
       "      <td>South</td>\n",
       "      <td>0.0</td>\n",
       "      <td>1.0</td>\n",
       "      <td>NaN</td>\n",
       "      <td>NaN</td>\n",
       "      <td>...</td>\n",
       "      <td>NaN</td>\n",
       "      <td>NaN</td>\n",
       "      <td>NaN</td>\n",
       "      <td>NaN</td>\n",
       "      <td>NaN</td>\n",
       "      <td>NaN</td>\n",
       "      <td>2016-12-31</td>\n",
       "      <td>SDOH_2016_ZIPCODE_1_0.xlsx</td>\n",
       "      <td>2024-08-17</td>\n",
       "      <td>2016</td>\n",
       "    </tr>\n",
       "    <tr>\n",
       "      <th>2</th>\n",
       "      <td>2016.0</td>\n",
       "      <td>12</td>\n",
       "      <td>32395</td>\n",
       "      <td>NaN</td>\n",
       "      <td>Florida</td>\n",
       "      <td>South</td>\n",
       "      <td>0.0</td>\n",
       "      <td>1.0</td>\n",
       "      <td>NaN</td>\n",
       "      <td>NaN</td>\n",
       "      <td>...</td>\n",
       "      <td>NaN</td>\n",
       "      <td>NaN</td>\n",
       "      <td>NaN</td>\n",
       "      <td>NaN</td>\n",
       "      <td>NaN</td>\n",
       "      <td>NaN</td>\n",
       "      <td>2016-12-31</td>\n",
       "      <td>SDOH_2016_ZIPCODE_1_0.xlsx</td>\n",
       "      <td>2024-08-17</td>\n",
       "      <td>2016</td>\n",
       "    </tr>\n",
       "    <tr>\n",
       "      <th>3</th>\n",
       "      <td>2016.0</td>\n",
       "      <td>12</td>\n",
       "      <td>33737</td>\n",
       "      <td>NaN</td>\n",
       "      <td>Florida</td>\n",
       "      <td>South</td>\n",
       "      <td>0.0</td>\n",
       "      <td>1.0</td>\n",
       "      <td>NaN</td>\n",
       "      <td>NaN</td>\n",
       "      <td>...</td>\n",
       "      <td>NaN</td>\n",
       "      <td>NaN</td>\n",
       "      <td>NaN</td>\n",
       "      <td>NaN</td>\n",
       "      <td>NaN</td>\n",
       "      <td>NaN</td>\n",
       "      <td>2016-12-31</td>\n",
       "      <td>SDOH_2016_ZIPCODE_1_0.xlsx</td>\n",
       "      <td>2024-08-17</td>\n",
       "      <td>2016</td>\n",
       "    </tr>\n",
       "    <tr>\n",
       "      <th>4</th>\n",
       "      <td>2016.0</td>\n",
       "      <td>12</td>\n",
       "      <td>32815</td>\n",
       "      <td>NaN</td>\n",
       "      <td>Florida</td>\n",
       "      <td>South</td>\n",
       "      <td>0.0</td>\n",
       "      <td>0.0</td>\n",
       "      <td>NaN</td>\n",
       "      <td>NaN</td>\n",
       "      <td>...</td>\n",
       "      <td>NaN</td>\n",
       "      <td>NaN</td>\n",
       "      <td>NaN</td>\n",
       "      <td>NaN</td>\n",
       "      <td>NaN</td>\n",
       "      <td>NaN</td>\n",
       "      <td>2016-12-31</td>\n",
       "      <td>SDOH_2016_ZIPCODE_1_0.xlsx</td>\n",
       "      <td>2024-08-17</td>\n",
       "      <td>2016</td>\n",
       "    </tr>\n",
       "  </tbody>\n",
       "</table>\n",
       "<p>5 rows × 369 columns</p>\n",
       "</div>"
      ],
      "text/plain": [
       "     year  statefips  zipcode  zcta    state region  territory  point_zip  \\\n",
       "0  2016.0         12    33159   NaN  Florida  South        0.0        1.0   \n",
       "1  2016.0         12    34278   NaN  Florida  South        0.0        1.0   \n",
       "2  2016.0         12    32395   NaN  Florida  South        0.0        1.0   \n",
       "3  2016.0         12    33737   NaN  Florida  South        0.0        1.0   \n",
       "4  2016.0         12    32815   NaN  Florida  South        0.0        0.0   \n",
       "\n",
       "   acs_tot_pop_wt_zc  acs_tot_pop_us_above1_zc  ...  \\\n",
       "0                NaN                       NaN  ...   \n",
       "1                NaN                       NaN  ...   \n",
       "2                NaN                       NaN  ...   \n",
       "3                NaN                       NaN  ...   \n",
       "4                NaN                       NaN  ...   \n",
       "\n",
       "   cdcp_prev_serv_m65_above_c_zc  cdcp_pulmonary_adult_c_zc  \\\n",
       "0                            NaN                        NaN   \n",
       "1                            NaN                        NaN   \n",
       "2                            NaN                        NaN   \n",
       "3                            NaN                        NaN   \n",
       "4                            NaN                        NaN   \n",
       "\n",
       "   cdcp_sleep_less7hr_adult_c_zc  acs_pct_pop_same_sex_unmrd_p_zc  \\\n",
       "0                            NaN                              NaN   \n",
       "1                            NaN                              NaN   \n",
       "2                            NaN                              NaN   \n",
       "3                            NaN                              NaN   \n",
       "4                            NaN                              NaN   \n",
       "\n",
       "   acs_pct_pop_same_sex_spouse_zc  hifld_dist_uc_zp  mimi_src_file_date  \\\n",
       "0                             NaN               NaN          2016-12-31   \n",
       "1                             NaN               NaN          2016-12-31   \n",
       "2                             NaN               NaN          2016-12-31   \n",
       "3                             NaN               NaN          2016-12-31   \n",
       "4                             NaN               NaN          2016-12-31   \n",
       "\n",
       "           mimi_src_file_name  mimi_dlt_load_date  substring(year, 1, 4)  \n",
       "0  SDOH_2016_ZIPCODE_1_0.xlsx          2024-08-17                   2016  \n",
       "1  SDOH_2016_ZIPCODE_1_0.xlsx          2024-08-17                   2016  \n",
       "2  SDOH_2016_ZIPCODE_1_0.xlsx          2024-08-17                   2016  \n",
       "3  SDOH_2016_ZIPCODE_1_0.xlsx          2024-08-17                   2016  \n",
       "4  SDOH_2016_ZIPCODE_1_0.xlsx          2024-08-17                   2016  \n",
       "\n",
       "[5 rows x 369 columns]"
      ]
     },
     "execution_count": 612,
     "metadata": {},
     "output_type": "execute_result"
    }
   ],
   "source": [
    "sdohdata.head()"
   ]
  },
  {
   "cell_type": "code",
   "execution_count": 613,
   "metadata": {},
   "outputs": [
    {
     "name": "stdout",
     "output_type": "stream",
     "text": [
      "<class 'pandas.core.frame.DataFrame'>\n",
      "RangeIndex: 14730 entries, 0 to 14729\n",
      "Columns: 369 entries, year to substring(year, 1, 4)\n",
      "dtypes: float64(361), int64(3), object(5)\n",
      "memory usage: 41.5+ MB\n"
     ]
    }
   ],
   "source": [
    "sdohdata.info()"
   ]
  },
  {
   "cell_type": "code",
   "execution_count": 614,
   "metadata": {},
   "outputs": [
    {
     "data": {
      "text/plain": [
       "year                         0\n",
       "statefips                    0\n",
       "zipcode                      0\n",
       "zcta                        90\n",
       "state                        0\n",
       "                         ...  \n",
       "hifld_dist_uc_zp         13331\n",
       "mimi_src_file_date           0\n",
       "mimi_src_file_name           0\n",
       "mimi_dlt_load_date           0\n",
       "substring(year, 1, 4)        0\n",
       "Length: 369, dtype: int64"
      ]
     },
     "execution_count": 614,
     "metadata": {},
     "output_type": "execute_result"
    }
   ],
   "source": [
    "sdohdata.isnull().sum()"
   ]
  },
  {
   "cell_type": "code",
   "execution_count": 615,
   "metadata": {},
   "outputs": [
    {
     "data": {
      "text/plain": [
       "(14730, 369)"
      ]
     },
     "execution_count": 615,
     "metadata": {},
     "output_type": "execute_result"
    }
   ],
   "source": [
    "sdohdata.shape"
   ]
  },
  {
   "cell_type": "code",
   "execution_count": 616,
   "metadata": {},
   "outputs": [],
   "source": [
    "# columns_to_remove = ['acs_tot_pop_wt_zc', 'acs_tot_pop_above15_zc',\n",
    "#        'acs_tot_pop_above16_zc','zcta','hifld_dist_uc_zp','cdcp_prev_serv_f65_above_c_zc', 'cdcp_prev_serv_m65_above_c_zc',\n",
    "#        'cdcp_pulmonary_adult_c_zc', 'cdcp_sleep_less7hr_adult_c_zc','acs_pct_pop_same_sex_unmrd_p_zc', 'acs_pct_pop_same_sex_spouse_zc','cdcp_doctor_visit_adult_c_zc', 'cdcp_fobt_sig_col_50_75_c_zc',\n",
    "#        'cdcp_kidney_disease_adult_c_zc','cdcp_choles_adult_c_zc', 'cdcp_choles_scr_adult_c_zc',\n",
    "#        'cdcp_arthritis_adult_c_zc', 'cdcp_asthma_adult_c_zc','acs_pct_hh_cellular_zc', 'acs_pct_hh_cellular_only_zc',\n",
    "#        'acs_pct_hh_no_internet_zc', 'acs_pct_hh_sat_internet_zc',\n",
    "#        'acs_pct_hh_dial_internet_only_zc', 'cdcp_blood_med_adult_c_zc','acs_tot_pop_16_19_zc', 'acs_tot_pop_above25_zc',\n",
    "#        'acs_tot_civil_pop_above18_zc','acs_pct_hh_other_comp_only_zc', 'acs_pct_hh_internet_zc',\n",
    "#        'acs_pct_hh_internet_no_subs_zc', 'acs_pct_hh_broadband_zc',\n",
    "#        'acs_pct_hh_broadband_only_zc', 'acs_pct_hh_broadband_any_zc',\n",
    "#        'cdcp_cervcan_scr_f21_65_c_zc', 'cdcp_dentist_visit_adult_c_zc', 'cdcp_mammo_scr_f50_74_c_zc','cdcp_no_phy_actv_adult_c_zc', 'cdcp_no_teeth_65_above_c_zc', 'acs_tot_pop_us_above1_zc','acs_tot_pop_above5_zc']\n",
    "# sdohdata = sdohdata.drop(columns=columns_to_remove)"
   ]
  },
  {
   "cell_type": "code",
   "execution_count": 617,
   "metadata": {},
   "outputs": [
    {
     "data": {
      "text/html": [
       "<div>\n",
       "<style scoped>\n",
       "    .dataframe tbody tr th:only-of-type {\n",
       "        vertical-align: middle;\n",
       "    }\n",
       "\n",
       "    .dataframe tbody tr th {\n",
       "        vertical-align: top;\n",
       "    }\n",
       "\n",
       "    .dataframe thead th {\n",
       "        text-align: right;\n",
       "    }\n",
       "</style>\n",
       "<table border=\"1\" class=\"dataframe\">\n",
       "  <thead>\n",
       "    <tr style=\"text-align: right;\">\n",
       "      <th></th>\n",
       "      <th>year</th>\n",
       "      <th>state</th>\n",
       "      <th>region</th>\n",
       "      <th>point_zip</th>\n",
       "      <th>mimi_src_file_date</th>\n",
       "      <th>mimi_src_file_name</th>\n",
       "      <th>mimi_dlt_load_date</th>\n",
       "    </tr>\n",
       "  </thead>\n",
       "  <tbody>\n",
       "    <tr>\n",
       "      <th>0</th>\n",
       "      <td>2016</td>\n",
       "      <td>Florida</td>\n",
       "      <td>South</td>\n",
       "      <td>1.0</td>\n",
       "      <td>2016-12-31</td>\n",
       "      <td>SDOH_2016_ZIPCODE_1_0.xlsx</td>\n",
       "      <td>2024-08-17</td>\n",
       "    </tr>\n",
       "    <tr>\n",
       "      <th>1</th>\n",
       "      <td>2016</td>\n",
       "      <td>Florida</td>\n",
       "      <td>South</td>\n",
       "      <td>1.0</td>\n",
       "      <td>2016-12-31</td>\n",
       "      <td>SDOH_2016_ZIPCODE_1_0.xlsx</td>\n",
       "      <td>2024-08-17</td>\n",
       "    </tr>\n",
       "    <tr>\n",
       "      <th>2</th>\n",
       "      <td>2016</td>\n",
       "      <td>Florida</td>\n",
       "      <td>South</td>\n",
       "      <td>1.0</td>\n",
       "      <td>2016-12-31</td>\n",
       "      <td>SDOH_2016_ZIPCODE_1_0.xlsx</td>\n",
       "      <td>2024-08-17</td>\n",
       "    </tr>\n",
       "    <tr>\n",
       "      <th>3</th>\n",
       "      <td>2016</td>\n",
       "      <td>Florida</td>\n",
       "      <td>South</td>\n",
       "      <td>1.0</td>\n",
       "      <td>2016-12-31</td>\n",
       "      <td>SDOH_2016_ZIPCODE_1_0.xlsx</td>\n",
       "      <td>2024-08-17</td>\n",
       "    </tr>\n",
       "    <tr>\n",
       "      <th>4</th>\n",
       "      <td>2016</td>\n",
       "      <td>Florida</td>\n",
       "      <td>South</td>\n",
       "      <td>0.0</td>\n",
       "      <td>2016-12-31</td>\n",
       "      <td>SDOH_2016_ZIPCODE_1_0.xlsx</td>\n",
       "      <td>2024-08-17</td>\n",
       "    </tr>\n",
       "  </tbody>\n",
       "</table>\n",
       "</div>"
      ],
      "text/plain": [
       "   year    state region  point_zip mimi_src_file_date  \\\n",
       "0  2016  Florida  South        1.0         2016-12-31   \n",
       "1  2016  Florida  South        1.0         2016-12-31   \n",
       "2  2016  Florida  South        1.0         2016-12-31   \n",
       "3  2016  Florida  South        1.0         2016-12-31   \n",
       "4  2016  Florida  South        0.0         2016-12-31   \n",
       "\n",
       "           mimi_src_file_name mimi_dlt_load_date  \n",
       "0  SDOH_2016_ZIPCODE_1_0.xlsx         2024-08-17  \n",
       "1  SDOH_2016_ZIPCODE_1_0.xlsx         2024-08-17  \n",
       "2  SDOH_2016_ZIPCODE_1_0.xlsx         2024-08-17  \n",
       "3  SDOH_2016_ZIPCODE_1_0.xlsx         2024-08-17  \n",
       "4  SDOH_2016_ZIPCODE_1_0.xlsx         2024-08-17  "
      ]
     },
     "execution_count": 617,
     "metadata": {},
     "output_type": "execute_result"
    }
   ],
   "source": [
    "columns_to_check = ['year', 'state', 'region',\n",
    "       'point_zip','mimi_src_file_date', 'mimi_src_file_name', 'mimi_dlt_load_date']\n",
    "# columns_to_check = sdohdata.columns\n",
    "# # columns_to_check = ['year', 'point_zip']\n",
    "sdohdata = sdohdata[columns_to_check]\n",
    "\n",
    "sdohdata['year'] = sdohdata['year'].apply(lambda x: str(int(float(x))))\n",
    "sdohdata.head()"
   ]
  },
  {
   "cell_type": "code",
   "execution_count": 618,
   "metadata": {},
   "outputs": [
    {
     "data": {
      "text/plain": [
       "(14730, 7)"
      ]
     },
     "execution_count": 618,
     "metadata": {},
     "output_type": "execute_result"
    }
   ],
   "source": [
    "sdohdata.shape"
   ]
  },
  {
   "cell_type": "code",
   "execution_count": 619,
   "metadata": {},
   "outputs": [
    {
     "data": {
      "text/plain": [
       "Index(['year', 'state', 'region', 'point_zip', 'mimi_src_file_date',\n",
       "       'mimi_src_file_name', 'mimi_dlt_load_date'],\n",
       "      dtype='object')"
      ]
     },
     "execution_count": 619,
     "metadata": {},
     "output_type": "execute_result"
    }
   ],
   "source": [
    "sdohdata.columns"
   ]
  },
  {
   "cell_type": "code",
   "execution_count": 620,
   "metadata": {},
   "outputs": [
    {
     "data": {
      "text/plain": [
       "0        False\n",
       "1         True\n",
       "2         True\n",
       "3         True\n",
       "4        False\n",
       "         ...  \n",
       "14725     True\n",
       "14726     True\n",
       "14727     True\n",
       "14728     True\n",
       "14729     True\n",
       "Length: 14730, dtype: bool"
      ]
     },
     "execution_count": 620,
     "metadata": {},
     "output_type": "execute_result"
    }
   ],
   "source": [
    "sdohdata.duplicated()"
   ]
  },
  {
   "cell_type": "code",
   "execution_count": 621,
   "metadata": {},
   "outputs": [
    {
     "name": "stdout",
     "output_type": "stream",
     "text": [
      "<class 'pandas.core.frame.DataFrame'>\n",
      "RangeIndex: 14730 entries, 0 to 14729\n",
      "Data columns (total 7 columns):\n",
      " #   Column              Non-Null Count  Dtype  \n",
      "---  ------              --------------  -----  \n",
      " 0   year                14730 non-null  object \n",
      " 1   state               14730 non-null  object \n",
      " 2   region              14727 non-null  object \n",
      " 3   point_zip           14730 non-null  float64\n",
      " 4   mimi_src_file_date  14730 non-null  object \n",
      " 5   mimi_src_file_name  14730 non-null  object \n",
      " 6   mimi_dlt_load_date  14730 non-null  object \n",
      "dtypes: float64(1), object(6)\n",
      "memory usage: 805.7+ KB\n"
     ]
    }
   ],
   "source": [
    "\n",
    "record_data = pd.DataFrame(sdohdata)\n",
    "\n",
    "record_data.info()"
   ]
  },
  {
   "cell_type": "code",
   "execution_count": 622,
   "metadata": {},
   "outputs": [
    {
     "data": {
      "text/html": [
       "<div>\n",
       "<style scoped>\n",
       "    .dataframe tbody tr th:only-of-type {\n",
       "        vertical-align: middle;\n",
       "    }\n",
       "\n",
       "    .dataframe tbody tr th {\n",
       "        vertical-align: top;\n",
       "    }\n",
       "\n",
       "    .dataframe thead th {\n",
       "        text-align: right;\n",
       "    }\n",
       "</style>\n",
       "<table border=\"1\" class=\"dataframe\">\n",
       "  <thead>\n",
       "    <tr style=\"text-align: right;\">\n",
       "      <th></th>\n",
       "      <th>year</th>\n",
       "      <th>state</th>\n",
       "      <th>region</th>\n",
       "      <th>point_zip</th>\n",
       "      <th>mimi_src_file_date</th>\n",
       "      <th>mimi_src_file_name</th>\n",
       "      <th>mimi_dlt_load_date</th>\n",
       "    </tr>\n",
       "  </thead>\n",
       "  <tbody>\n",
       "    <tr>\n",
       "      <th>0</th>\n",
       "      <td>2016</td>\n",
       "      <td>Florida</td>\n",
       "      <td>South</td>\n",
       "      <td>1.0</td>\n",
       "      <td>2016-12-31</td>\n",
       "      <td>SDOH_2016_ZIPCODE_1_0.xlsx</td>\n",
       "      <td>2024-08-17</td>\n",
       "    </tr>\n",
       "    <tr>\n",
       "      <th>1</th>\n",
       "      <td>2016</td>\n",
       "      <td>Florida</td>\n",
       "      <td>South</td>\n",
       "      <td>1.0</td>\n",
       "      <td>2016-12-31</td>\n",
       "      <td>SDOH_2016_ZIPCODE_1_0.xlsx</td>\n",
       "      <td>2024-08-17</td>\n",
       "    </tr>\n",
       "    <tr>\n",
       "      <th>2</th>\n",
       "      <td>2016</td>\n",
       "      <td>Florida</td>\n",
       "      <td>South</td>\n",
       "      <td>1.0</td>\n",
       "      <td>2016-12-31</td>\n",
       "      <td>SDOH_2016_ZIPCODE_1_0.xlsx</td>\n",
       "      <td>2024-08-17</td>\n",
       "    </tr>\n",
       "    <tr>\n",
       "      <th>3</th>\n",
       "      <td>2016</td>\n",
       "      <td>Florida</td>\n",
       "      <td>South</td>\n",
       "      <td>1.0</td>\n",
       "      <td>2016-12-31</td>\n",
       "      <td>SDOH_2016_ZIPCODE_1_0.xlsx</td>\n",
       "      <td>2024-08-17</td>\n",
       "    </tr>\n",
       "    <tr>\n",
       "      <th>4</th>\n",
       "      <td>2016</td>\n",
       "      <td>Florida</td>\n",
       "      <td>South</td>\n",
       "      <td>0.0</td>\n",
       "      <td>2016-12-31</td>\n",
       "      <td>SDOH_2016_ZIPCODE_1_0.xlsx</td>\n",
       "      <td>2024-08-17</td>\n",
       "    </tr>\n",
       "  </tbody>\n",
       "</table>\n",
       "</div>"
      ],
      "text/plain": [
       "   year    state region  point_zip mimi_src_file_date  \\\n",
       "0  2016  Florida  South        1.0         2016-12-31   \n",
       "1  2016  Florida  South        1.0         2016-12-31   \n",
       "2  2016  Florida  South        1.0         2016-12-31   \n",
       "3  2016  Florida  South        1.0         2016-12-31   \n",
       "4  2016  Florida  South        0.0         2016-12-31   \n",
       "\n",
       "           mimi_src_file_name mimi_dlt_load_date  \n",
       "0  SDOH_2016_ZIPCODE_1_0.xlsx         2024-08-17  \n",
       "1  SDOH_2016_ZIPCODE_1_0.xlsx         2024-08-17  \n",
       "2  SDOH_2016_ZIPCODE_1_0.xlsx         2024-08-17  \n",
       "3  SDOH_2016_ZIPCODE_1_0.xlsx         2024-08-17  \n",
       "4  SDOH_2016_ZIPCODE_1_0.xlsx         2024-08-17  "
      ]
     },
     "execution_count": 622,
     "metadata": {},
     "output_type": "execute_result"
    }
   ],
   "source": [
    "record_data.head()"
   ]
  },
  {
   "cell_type": "code",
   "execution_count": 623,
   "metadata": {},
   "outputs": [
    {
     "data": {
      "text/html": [
       "<div>\n",
       "<style scoped>\n",
       "    .dataframe tbody tr th:only-of-type {\n",
       "        vertical-align: middle;\n",
       "    }\n",
       "\n",
       "    .dataframe tbody tr th {\n",
       "        vertical-align: top;\n",
       "    }\n",
       "\n",
       "    .dataframe thead th {\n",
       "        text-align: right;\n",
       "    }\n",
       "</style>\n",
       "<table border=\"1\" class=\"dataframe\">\n",
       "  <thead>\n",
       "    <tr style=\"text-align: right;\">\n",
       "      <th></th>\n",
       "      <th>year</th>\n",
       "      <th>state</th>\n",
       "      <th>region</th>\n",
       "      <th>point_zip</th>\n",
       "      <th>mimi_src_file_date</th>\n",
       "      <th>mimi_src_file_name</th>\n",
       "      <th>mimi_dlt_load_date</th>\n",
       "    </tr>\n",
       "  </thead>\n",
       "  <tbody>\n",
       "    <tr>\n",
       "      <th>14725</th>\n",
       "      <td>2020</td>\n",
       "      <td>Florida</td>\n",
       "      <td>South</td>\n",
       "      <td>1.0</td>\n",
       "      <td>2020-12-31</td>\n",
       "      <td>SDOH_2020_ZIPCODE_1_0.xlsx</td>\n",
       "      <td>2024-08-17</td>\n",
       "    </tr>\n",
       "    <tr>\n",
       "      <th>14726</th>\n",
       "      <td>2020</td>\n",
       "      <td>Florida</td>\n",
       "      <td>South</td>\n",
       "      <td>0.0</td>\n",
       "      <td>2020-12-31</td>\n",
       "      <td>SDOH_2020_ZIPCODE_1_0.xlsx</td>\n",
       "      <td>2024-08-17</td>\n",
       "    </tr>\n",
       "    <tr>\n",
       "      <th>14727</th>\n",
       "      <td>2020</td>\n",
       "      <td>Florida</td>\n",
       "      <td>South</td>\n",
       "      <td>0.0</td>\n",
       "      <td>2020-12-31</td>\n",
       "      <td>SDOH_2020_ZIPCODE_1_0.xlsx</td>\n",
       "      <td>2024-08-17</td>\n",
       "    </tr>\n",
       "    <tr>\n",
       "      <th>14728</th>\n",
       "      <td>2020</td>\n",
       "      <td>Florida</td>\n",
       "      <td>South</td>\n",
       "      <td>0.0</td>\n",
       "      <td>2020-12-31</td>\n",
       "      <td>SDOH_2020_ZIPCODE_1_0.xlsx</td>\n",
       "      <td>2024-08-17</td>\n",
       "    </tr>\n",
       "    <tr>\n",
       "      <th>14729</th>\n",
       "      <td>2020</td>\n",
       "      <td>Florida</td>\n",
       "      <td>South</td>\n",
       "      <td>1.0</td>\n",
       "      <td>2020-12-31</td>\n",
       "      <td>SDOH_2020_ZIPCODE_1_0.xlsx</td>\n",
       "      <td>2024-08-17</td>\n",
       "    </tr>\n",
       "  </tbody>\n",
       "</table>\n",
       "</div>"
      ],
      "text/plain": [
       "       year    state region  point_zip mimi_src_file_date  \\\n",
       "14725  2020  Florida  South        1.0         2020-12-31   \n",
       "14726  2020  Florida  South        0.0         2020-12-31   \n",
       "14727  2020  Florida  South        0.0         2020-12-31   \n",
       "14728  2020  Florida  South        0.0         2020-12-31   \n",
       "14729  2020  Florida  South        1.0         2020-12-31   \n",
       "\n",
       "               mimi_src_file_name mimi_dlt_load_date  \n",
       "14725  SDOH_2020_ZIPCODE_1_0.xlsx         2024-08-17  \n",
       "14726  SDOH_2020_ZIPCODE_1_0.xlsx         2024-08-17  \n",
       "14727  SDOH_2020_ZIPCODE_1_0.xlsx         2024-08-17  \n",
       "14728  SDOH_2020_ZIPCODE_1_0.xlsx         2024-08-17  \n",
       "14729  SDOH_2020_ZIPCODE_1_0.xlsx         2024-08-17  "
      ]
     },
     "execution_count": 623,
     "metadata": {},
     "output_type": "execute_result"
    }
   ],
   "source": [
    "record_data.tail()"
   ]
  },
  {
   "cell_type": "code",
   "execution_count": 624,
   "metadata": {},
   "outputs": [
    {
     "name": "stdout",
     "output_type": "stream",
     "text": [
      "2011 499.0\n",
      "2012 498.0\n",
      "2013 498.0\n",
      "2014 498.0\n",
      "2015 498.0\n",
      "2016 498.0\n",
      "2017 496.0\n",
      "2018 496.0\n",
      "2019 496.0\n",
      "2020 491.0\n"
     ]
    }
   ],
   "source": [
    "record_data = record_data.groupby(['year'])[['point_zip']].sum()\n",
    "\n",
    "# for col in record_data:\n",
    "#     print(record_data[col])\n",
    "data = {\n",
    "    'year': [],\n",
    "    'point_zip': []\n",
    "}\n",
    "\n",
    "for row in record_data.itertuples():\n",
    "    data['year'].append(row.Index)\n",
    "    data['point_zip'].append(row.point_zip)\n",
    "    print(row.Index, row.point_zip)\n"
   ]
  },
  {
   "cell_type": "code",
   "execution_count": 626,
   "metadata": {},
   "outputs": [
    {
     "data": {
      "image/png": "[encoded data removed]",
      "text/plain": [
       "<Figure size 432x288 with 1 Axes>"
      ]
     },
     "metadata": {
      "needs_background": "light"
     },
     "output_type": "display_data"
    }
   ],
   "source": [
    "import matplotlib.pyplot as plt\n",
    "\n",
    "df = pd.DataFrame(data)\n",
    "\n",
    "# Set 'year' as the index\n",
    "df.set_index('year', inplace=True)\n",
    "\n",
    "# Plotting the data\n",
    "df.plot(kind='line', marker='o')\n",
    "\n",
    "# Add labels and title\n",
    "plt.xlabel('Year')\n",
    "plt.ylabel('Point Zip')\n",
    "plt.title('Point Zip Over Years')\n",
    "\n",
    "# Display the plot\n",
    "plt.show()\n"
   ]
  }
 ],
 "metadata": {
  "kernelspec": {
   "display_name": "Python 3",
   "language": "python",
   "name": "python3"
  },
  "language_info": {
   "codemirror_mode": {
    "name": "ipython",
    "version": 3
   },
   "file_extension": ".py",
   "mimetype": "text/x-python",
   "name": "python",
   "nbconvert_exporter": "python",
   "pygments_lexer": "ipython3",
   "version": "3.8.5"
  }
 },
 "nbformat": 4,
 "nbformat_minor": 2
}
